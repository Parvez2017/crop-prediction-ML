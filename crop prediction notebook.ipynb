{
 "cells": [
  {
   "cell_type": "code",
   "execution_count": 1,
   "metadata": {},
   "outputs": [
    {
     "name": "stdout",
     "output_type": "stream",
     "text": [
      "     N   P   K  temperature   humidity        ph    rainfall label\n",
      "0   90  42  43    20.879744  82.002744  6.502985  202.935536  rice\n",
      "1   85  58  41    21.770462  80.319644  7.038096  226.655537  rice\n",
      "2   60  55  44    23.004459  82.320763  7.840207  263.964248  rice\n",
      "3   74  35  40    26.491096  80.158363  6.980401  242.864034  rice\n",
      "4   78  42  42    20.130175  81.604873  7.628473  262.717340  rice\n",
      "5   69  37  42    23.058049  83.370118  7.073454  251.055000  rice\n",
      "6   69  55  38    22.708838  82.639414  5.700806  271.324860  rice\n",
      "7   94  53  40    20.277744  82.894086  5.718627  241.974195  rice\n",
      "8   89  54  38    24.515881  83.535216  6.685346  230.446236  rice\n",
      "9   68  58  38    23.223974  83.033227  6.336254  221.209196  rice\n",
      "10  91  53  40    26.527235  81.417538  5.386168  264.614870  rice\n",
      "11  90  46  42    23.978982  81.450616  7.502834  250.083234  rice\n",
      "12  78  58  44    26.800796  80.886848  5.108682  284.436457  rice\n",
      "13  93  56  36    24.014976  82.056872  6.984354  185.277339  rice\n",
      "14  94  50  37    25.665852  80.663850  6.948020  209.586971  rice\n",
      "15  60  48  39    24.282094  80.300256  7.042299  231.086335  rice\n",
      "16  85  38  41    21.587118  82.788371  6.249051  276.655246  rice\n",
      "17  91  35  39    23.793920  80.418180  6.970860  206.261186  rice\n",
      "18  77  38  36    21.865252  80.192301  5.953933  224.555017  rice\n",
      "19  88  35  40    23.579436  83.587603  5.853932  291.298662  rice\n",
      "2200\n",
      "   temperature   humidity        ph    rainfall label\n",
      "0    20.879744  82.002744  6.502985  202.935536  rice\n",
      "1    21.770462  80.319644  7.038096  226.655537  rice\n",
      "2    23.004459  82.320763  7.840207  263.964248  rice\n",
      "3    26.491096  80.158363  6.980401  242.864034  rice\n",
      "4    20.130175  81.604873  7.628473  262.717340  rice\n",
      "2200\n"
     ]
    }
   ],
   "source": [
    "import pandas as pd \n",
    "\n",
    "df = pd.read_csv('Crop_recommendation.csv')\n",
    "print(df.head(20))\n",
    "print(len(df))\n",
    "df = df.drop(['N', 'P', 'K'], axis=1)\n",
    "print(df.head())\n",
    "df.dropna(inplace=True)\n",
    "print(len(df))"
   ]
  },
  {
   "cell_type": "code",
   "execution_count": 2,
   "metadata": {},
   "outputs": [
    {
     "name": "stdout",
     "output_type": "stream",
     "text": [
      "['apple', 'banana', 'blackgram', 'chickpea', 'coconut', 'coffee', 'cotton', 'grapes', 'jute', 'kidneybeans', 'lentil', 'maize', 'mango', 'mothbeans', 'mungbean', 'muskmelon', 'orange', 'papaya', 'pigeonpeas', 'pomegranate', 'rice', 'watermelon']\n"
     ]
    }
   ],
   "source": [
    "crops = df.groupby(['label']).mean()\n",
    "ls = list(crops.index)\n",
    "\n",
    "import pickle\n",
    "with open('crop_list.pkl', 'wb') as f:\n",
    "    pickle.dump(ls, f)\n",
    "with open('crop_list.pkl', 'rb') as f:\n",
    "    print(pickle.load(f))"
   ]
  },
  {
   "cell_type": "code",
   "execution_count": 3,
   "metadata": {},
   "outputs": [],
   "source": [
    "X = df.iloc[:, 0:4]\n",
    "y = df.iloc[:, -1]"
   ]
  },
  {
   "cell_type": "code",
   "execution_count": 4,
   "metadata": {},
   "outputs": [
    {
     "name": "stdout",
     "output_type": "stream",
     "text": [
      "[20 20 20 ...  5  5  5]\n"
     ]
    }
   ],
   "source": [
    "from sklearn.preprocessing import LabelEncoder\n",
    "encoder = LabelEncoder()\n",
    "y = encoder.fit_transform(y)\n",
    "print(y)"
   ]
  },
  {
   "cell_type": "code",
   "execution_count": 5,
   "metadata": {},
   "outputs": [],
   "source": [
    "from sklearn.model_selection import train_test_split \n",
    "X_train, X_test, y_train, y_test = train_test_split(X, y, test_size = 0.1, random_state = len(df))"
   ]
  },
  {
   "cell_type": "code",
   "execution_count": 6,
   "metadata": {},
   "outputs": [],
   "source": [
    "from sklearn.preprocessing import StandardScaler \n",
    "sc = StandardScaler() \n",
    "sc.fit(X_train) \n",
    "X_train = sc.transform(X_train)\n",
    "X_test = sc.transform(X_test)\n",
    "\n",
    "with open('scaler.pkl', 'wb') as f:\n",
    "    pickle.dump(sc, f)"
   ]
  },
  {
   "cell_type": "code",
   "execution_count": 7,
   "metadata": {},
   "outputs": [
    {
     "data": {
      "text/plain": [
       "GaussianNB(priors=None, var_smoothing=1e-09)"
      ]
     },
     "execution_count": 7,
     "metadata": {},
     "output_type": "execute_result"
    }
   ],
   "source": [
    "from sklearn.naive_bayes import GaussianNB \n",
    "classifier = GaussianNB() \n",
    "classifier.fit(X_train, y_train)"
   ]
  },
  {
   "cell_type": "code",
   "execution_count": 8,
   "metadata": {},
   "outputs": [],
   "source": [
    "# Predicting the Test set results \n",
    "y_pred = classifier.predict(X_test)\n",
    "\n",
    "# Making the Confusion Matrix\n",
    "from sklearn.metrics import accuracy_score\n",
    "score = accuracy_score(y_pred, y_test)"
   ]
  },
  {
   "cell_type": "code",
   "execution_count": 9,
   "metadata": {},
   "outputs": [
    {
     "name": "stdout",
     "output_type": "stream",
     "text": [
      "0.9454545454545454\n"
     ]
    }
   ],
   "source": [
    "print(score)"
   ]
  }
 ],
 "metadata": {
  "kernelspec": {
   "display_name": "Python 3",
   "language": "python",
   "name": "python3"
  },
  "language_info": {
   "codemirror_mode": {
    "name": "ipython",
    "version": 3
   },
   "file_extension": ".py",
   "mimetype": "text/x-python",
   "name": "python",
   "nbconvert_exporter": "python",
   "pygments_lexer": "ipython3",
   "version": "3.7.6"
  }
 },
 "nbformat": 4,
 "nbformat_minor": 4
}
